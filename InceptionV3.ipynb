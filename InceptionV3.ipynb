{
 "cells": [
  {
   "cell_type": "code",
   "execution_count": null,
   "metadata": {},
   "outputs": [],
   "source": [
    "from keras.layers import Input, Activation, concatenate\n",
    "from keras.layers.convolutional import Convolution2D, AveragePooling2D\n",
    "from keras.layers import BatchNormalization"
   ]
  },
  {
   "cell_type": "code",
   "execution_count": null,
   "metadata": {},
   "outputs": [],
   "source": [
    "\n",
    "\n",
    "b1 = Convolution2D(128, (1,1), strides=2)(x)\n",
    "b1 = BatchNormalization()(b1)\n",
    "b1 = Activation('relu')(b1)\n",
    "\n",
    "b2 = Convolution2D(128, (1,1))(x)\n",
    "b2 = BatchNormalization()(b2)\n",
    "b2 = Activation('relu')(b2)\n",
    "b2 = Convolution2D(128, (3,3), strides=2)(b2)\n",
    "b2 = BatchNormalization()(b2)\n",
    "b2 = Activation('relu')(b2)\n",
    "\n",
    "\n",
    "b3 = AveragePooling2D(pool_size=(3, 3), strides=2)(x)\n",
    "b3 = Convolution2D(128, (3,3))(b3)\n",
    "b3 = BatchNormalization()(b3)\n",
    "b3 = Activation('relu')(b3)\n",
    "\n",
    "b4 = Convolution2D(128, (1,1))(x)\n",
    "b4 = BatchNormalization()(b4)\n",
    "b4 = Activation('relu')(b4)\n",
    "b4 = Convolution2D(128, (3,3))(b4)\n",
    "b4 = BatchNormalization()(b4)\n",
    "b4 = Activation('relu')(b4)\n",
    "b4 = Convolution2D(128, (3,3),strides=2)(b4)\n",
    "b4 = BatchNormalization()(b4)\n",
    "b4 = Activation('relu')(b4)\n",
    "\n",
    "output = concatenate([b1, b2, b3, b4], axis=-1)\n",
    "\n"
   ]
  }
 ],
 "metadata": {
  "kernelspec": {
   "display_name": "Python 3",
   "language": "python",
   "name": "python3"
  },
  "language_info": {
   "codemirror_mode": {
    "name": "ipython",
    "version": 3
   },
   "file_extension": ".py",
   "mimetype": "text/x-python",
   "name": "python",
   "nbconvert_exporter": "python",
   "pygments_lexer": "ipython3",
   "version": "3.6.5"
  }
 },
 "nbformat": 4,
 "nbformat_minor": 2
}
